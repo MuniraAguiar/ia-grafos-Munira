{
  "nbformat": 4,
  "nbformat_minor": 0,
  "metadata": {
    "colab": {
      "provenance": [],
      "include_colab_link": true
    },
    "kernelspec": {
      "name": "python3",
      "display_name": "Python 3"
    },
    "language_info": {
      "name": "python"
    }
  },
  "cells": [
    {
      "cell_type": "markdown",
      "metadata": {
        "id": "view-in-github",
        "colab_type": "text"
      },
      "source": [
        "<a href=\"https://colab.research.google.com/github/MuniraAguiar/ia-grafos-Munira/blob/main/LIsta_N2_Inteligencia_Artificial.ipynb\" target=\"_parent\"><img src=\"https://colab.research.google.com/assets/colab-badge.svg\" alt=\"Open In Colab\"/></a>"
      ]
    },
    {
      "cell_type": "markdown",
      "source": [
        "**Lista de Exercícios N2**\n",
        "\n",
        "Tema: Grafos e Algoritmos de Busca (Dijkstra, A*, em-ordem, pré-ordem e pós-ordem)\n",
        "\n",
        "Disciplina: Inteligência Artificial\\\n",
        "Ambiente: Google Colab\\\n",
        "Entrega: via repositório individual no GitHub"
      ],
      "metadata": {
        "id": "51-tDsdpFH9B"
      }
    },
    {
      "cell_type": "markdown",
      "source": [
        "**Nome completo:** Munira Vieira de Aguiar\n",
        "\n",
        "**Matricula:** 2402291"
      ],
      "metadata": {
        "id": "-02FfQpMKNEb"
      }
    },
    {
      "cell_type": "markdown",
      "source": [
        "**Regras Gerais**\n",
        "\n",
        "- Trabalho individual.\n",
        "\n",
        "- Linguagem: Python 3 (Google Colab).\n",
        "\n",
        "- É permitido usar: heapq, numpy, matplotlib, dataclasses.\n",
        "\n",
        "- Proibido usar funções prontas de shortest path (networkx.shortest_path, scipy.sparse.csgraph.dijkstra, etc.).\n",
        "\n",
        "O Notebook (.ipynb) deve conter:\n",
        "\n",
        "- Identificação (nome, turma, link do GitHub)\n",
        "\n",
        "- Código, testes e reflexões\n",
        "\n",
        "- Seções organizadas conforme o roteiro abaixo."
      ],
      "metadata": {
        "id": "iJ41FayHF8rV"
      }
    },
    {
      "cell_type": "markdown",
      "source": [
        "**Parte A — Dijkstra (Caminho Mínimo em Grafos Ponderados Positivos)**\n",
        "\n",
        "> Imagine que você está projetando um sistema de navegação para ambulâncias em uma cidade. Cada interseção é representada como um nó e cada rua como uma aresta ponderada com o tempo médio de deslocamento. Você precisa encontrar a rota mais rápida entre o hospital e o local de atendimento, garantindo que o caminho tenha custo mínimo e seja correto mesmo em grandes redes urbanas.\n",
        "\n",
        "**Atividades**\n",
        "\n",
        "- Implemente o algoritmo de Dijkstra, retornando o custo mínimo (dist) e os predecessores (parent).\n",
        "\n",
        "- Crie uma função reconstruct_path(parent, target) que reconstrua o trajeto.\n",
        "\n",
        "Teste o algoritmo em um grafo de exemplo.\n",
        "\n",
        "**Explique (Questões Discursivas):**\n",
        "\n",
        "1. Por que Dijkstra exige arestas não negativas?\n",
        "\n",
        "O algoritmo de Dijkstra assume que, ao encontrar o menor caminho para um nó, esse valor não será mais alterado. Se houver arestas com pesos negativos, essa suposição falha, pois um caminho mais curto pode surgir posteriormente. Isso compromete a corretude do algoritmo.\n",
        "\n",
        "2. Qual a complexidade do algoritmo com lista de adjacência e heapq?\n",
        "\n",
        "A complexidade é O((V + E) log V), onde V é o número de vértices e E o número de arestas. Isso se deve ao uso da fila de prioridade heapq que permite acesso eficiente ao próximo nó com menor custo.\n",
        "\n",
        "💡 Dica: Compare seu resultado com um mapa simples — se mudar o peso de uma rua, a rota muda?"
      ],
      "metadata": {
        "id": "XKYf0iFXGaV1"
      }
    },
    {
      "cell_type": "code",
      "source": [
        "import heapq\n",
        "\n",
        "def dijkstra(graph, start):\n",
        "    dist = {node: float('inf') for node in graph}\n",
        "    dist[start] = 0\n",
        "    parent = {node: None for node in graph}\n",
        "\n",
        "    heap = [(0, start)]\n",
        "\n",
        "    while heap:\n",
        "        current_dist, current_node = heapq.heappop(heap)\n",
        "\n",
        "        if current_dist > dist[current_node]:\n",
        "            continue\n",
        "\n",
        "        for neighbor, weight in graph[current_node]:\n",
        "            distance = current_dist + weight\n",
        "            if distance < dist[neighbor]:\n",
        "                dist[neighbor] = distance\n",
        "                parent[neighbor] = current_node\n",
        "                heapq.heappush(heap, (distance, neighbor))\n",
        "\n",
        "    return dist, parent\n",
        "\n",
        "def reconstruct_path(parent, target):\n",
        "    path = []\n",
        "    while target is not None:\n",
        "        path.append(target)\n",
        "        target = parent[target]\n",
        "    return path[::-1]\n",
        "\n",
        "graph = {\n",
        "    'Hospital': [('A', 4), ('B', 2)],\n",
        "    'A': [('C', 3)],\n",
        "    'B': [('A', 1), ('D', 5)],\n",
        "    'C': [('Local', 4)],\n",
        "    'D': [('C', 1), ('Local', 7)],\n",
        "    'Local': []\n",
        "}\n",
        "\n",
        "dist, parent = dijkstra(graph, 'Hospital')\n",
        "path = reconstruct_path(parent, 'Local')\n",
        "\n",
        "print(\"Custo mínimo até o Local:\", dist['Local'])\n",
        "print(\"Caminho reconstruído:\", path)"
      ],
      "metadata": {
        "id": "_7qVHP30FFF5",
        "colab": {
          "base_uri": "https://localhost:8080/"
        },
        "outputId": "84d9da71-cea0-45e8-f206-b8463beaf7c6"
      },
      "execution_count": 4,
      "outputs": [
        {
          "output_type": "stream",
          "name": "stdout",
          "text": [
            "Custo mínimo até o Local: 10\n",
            "Caminho reconstruído: ['Hospital', 'B', 'A', 'C', 'Local']\n"
          ]
        }
      ]
    },
    {
      "cell_type": "markdown",
      "source": [],
      "metadata": {
        "id": "lZAGP4qeZCnz"
      }
    },
    {
      "cell_type": "code",
      "source": [],
      "metadata": {
        "id": "vKwE6Qo2IBFc"
      },
      "execution_count": 4,
      "outputs": []
    },
    {
      "cell_type": "markdown",
      "source": [
        "**Parte B — A-Star (Busca Informada com Heurística Admissível)**\n",
        "\n",
        "> Agora, considere um robô autônomo que deve se deslocar por um labirinto 2D, evitando obstáculos e chegando ao destino no menor tempo possível.\n",
        "Diferente do Dijkstra, o robô pode usar uma heurística (como a distância ao alvo) para priorizar rotas promissoras, economizando tempo de busca.\n",
        "\n",
        "**Atividades**\n",
        "\n",
        "1. Gere um grid 20x20 com ~15% de obstáculos aleatórios.\n",
        "\n",
        "2. Implemente a função heuristic(a, b) (distância Manhattan).\n",
        "\n",
        "3. Desenvolva o algoritmo a_star(grid, start, goal, h) e teste-o.\n",
        "\n",
        "**Explique (Questões Discursivas):**\n",
        "\n",
        "1. A* vs Dijkstra: qual expande menos nós?\n",
        "\n",
        "O A* geralmente expande menos nós que o Dijkstra, pois utiliza uma heurística para guiar a busca em direção ao objetivo, evitando explorar caminhos menos promissores.\n",
        "\n",
        "2. Por que a heurística Manhattan é admissível nesse caso?\n",
        "\n",
        "A heurística Manhattan é admissível porque nunca superestima o custo real. Ela considera apenas movimentos horizontais e verticais, que são os únicos permitidos no grid, garantindo que o A* encontre o caminho ótimo.\n",
        "\n",
        "💡 Cenário real: O A* é amplamente usado em robôs aspiradores, drones e jogos. Seu desafio é aplicar o mesmo raciocínio."
      ],
      "metadata": {
        "id": "9vCEA95GGx_6"
      }
    },
    {
      "cell_type": "code",
      "source": [
        "import heapq\n",
        "from dataclasses import dataclass, field\n",
        "from typing import Dict, List, Tuple\n",
        "import matplotlib.pyplot as plt\n",
        "\n",
        "graph = {\n",
        "    'A': [('B', 2), ('C', 5)],\n",
        "    'B': [('A', 2), ('C', 1), ('D', 4)],\n",
        "    'C': [('A', 5), ('B', 1), ('D', 2)],\n",
        "    'D': [('B', 4), ('C', 2)]\n",
        "}\n",
        "\n",
        "@dataclass(order=True)\n",
        "class PrioritizedItem:\n",
        "    priority: int\n",
        "    node: str = field(compare=False)\n",
        "\n",
        "def dijkstra(graph: Dict[str, List[Tuple[str, int]]], start: str):\n",
        "    distances = {node: float('inf') for node in graph}\n",
        "    distances[start] = 0\n",
        "    previous = {node: None for node in graph}\n",
        "    visited = set()\n",
        "    queue = [PrioritizedItem(0, start)]\n",
        "\n",
        "    while queue:\n",
        "        current = heapq.heappop(queue)\n",
        "        current_node = current.node\n",
        "\n",
        "        if current_node in visited:\n",
        "            continue\n",
        "        visited.add(current_node)\n",
        "\n",
        "        for neighbor, weight in graph[current_node]:\n",
        "            distance = distances[current_node] + weight\n",
        "            if distance < distances[neighbor]:\n",
        "                distances[neighbor] = distance\n",
        "                previous[neighbor] = current_node\n",
        "                heapq.heappush(queue, PrioritizedItem(distance, neighbor))\n",
        "\n",
        "    return distances, previous\n",
        "\n",
        "def reconstruct_path(previous: Dict[str, str], start: str, end: str):\n",
        "    path = []\n",
        "    current = end\n",
        "    while current is not None:\n",
        "        path.append(current)\n",
        "        current = previous[current]\n",
        "    return path[::-1]\n",
        "\n",
        "start_node = 'A'\n",
        "distances, previous = dijkstra(graph, start_node)\n",
        "\n",
        "print(f\"Menores distâncias a partir do nó '{start_node}':\")\n",
        "for node, dist in distances.items():\n",
        "    print(f\" - Até {node}: {dist}\")\n",
        "\n",
        "print(\"\\nCaminhos mínimos:\")\n",
        "for node in graph:\n",
        "    if node != start_node:\n",
        "        path = reconstruct_path(previous, start_node, node)\n",
        "        print(f\" - {start_node} → {node}: {' -> '.join(path)}\")\n",
        "\n",
        "positions = {'A': (0, 1), 'B': (1, 2), 'C': (2, 1), 'D': (1, 0)}\n",
        "\n",
        "plt.figure(figsize=(6, 6))\n",
        "\n",
        "for node, (x, y) in positions.items():\n",
        "    plt.scatter(x, y, s=1000, color='lightblue')\n",
        "    plt.text(x, y, node, fontsize=14, ha='center', va='center')\n",
        "\n",
        "for node, edges in graph.items():\n",
        "    x1, y1 = positions[node]\n",
        "    for neighbor, weight in edges:\n",
        "        x2, y2 = positions[neighbor]\n",
        "        plt.plot([x1, x2], [y1, y2], color='gray')\n",
        "        plt.text((x1+x2)/2, (y1+y2)/2, str(weight), fontsize=12, color='black')\n",
        "\n",
        "for node in graph:\n",
        "    if node != start_node:\n",
        "        path = reconstruct_path(previous, start_node, node)\n",
        "        for i in range(len(path)-1):\n",
        "            x1, y1 = positions[path[i]]\n",
        "            x2, y2 = positions[path[i+1]]\n",
        "            plt.plot([x1, x2], [y1, y2], color='red', linewidth=3)\n",
        "\n",
        "plt.title(f\"Caminhos mínimos a partir do nó '{start_node}'\")\n",
        "plt.axis('off')\n",
        "plt.show()"
      ],
      "metadata": {
        "id": "XMIxqCl3FEt6",
        "colab": {
          "base_uri": "https://localhost:8080/",
          "height": 695
        },
        "outputId": "026a4ae4-b681-4be3-f5f3-459a6641bc35"
      },
      "execution_count": 5,
      "outputs": [
        {
          "output_type": "stream",
          "name": "stdout",
          "text": [
            "Menores distâncias a partir do nó 'A':\n",
            " - Até A: 0\n",
            " - Até B: 2\n",
            " - Até C: 3\n",
            " - Até D: 5\n",
            "\n",
            "Caminhos mínimos:\n",
            " - A → B: A -> B\n",
            " - A → C: A -> B -> C\n",
            " - A → D: A -> B -> C -> D\n"
          ]
        },
        {
          "output_type": "display_data",
          "data": {
            "text/plain": [
              "<Figure size 600x600 with 1 Axes>"
            ],
            "image/png": "[encoded data removed]"
          },
          "metadata": {}
        }
      ]
    },
    {
      "cell_type": "markdown",
      "source": [],
      "metadata": {
        "id": "K2XNaRjJjf1Z"
      }
    },
    {
      "cell_type": "markdown",
      "source": [],
      "metadata": {
        "id": "4_ik2YLO0zaD"
      }
    },
    {
      "cell_type": "code",
      "source": [],
      "metadata": {
        "id": "zQ1WgmxRFB8N"
      },
      "execution_count": 5,
      "outputs": []
    },
    {
      "cell_type": "markdown",
      "source": [],
      "metadata": {
        "id": "EM0Gs9lO0y6k"
      }
    },
    {
      "cell_type": "markdown",
      "source": [
        "**Parte C — Árvores Binárias e Percursos (DFS em-ordem, pré-ordem e pós-ordem)**\n",
        "\n",
        "> Você está desenvolvendo um sistema de recomendação que organiza produtos em uma árvore binária de busca (BST), conforme o preço. Cada nó é um produto e a travessia da árvore pode ser usada para: 1. Ordenar produtos (em-ordem); 2. Clonar a estrutura (pré-ordem); 3. Calcular totais ou liberar memória (pós-ordem);\n",
        "\n",
        "**Atividades**\n",
        "\n",
        "1. Crie uma BST com os valores: [50, 30, 70, 20, 40, 60, 80, 35, 45].\n",
        "\n",
        "Implemente os percursos:\n",
        "\n",
        "1. in_order(root)\n",
        "\n",
        "2. pre_order(root)\n",
        "\n",
        "3. post_order(root)\n",
        "\n",
        "Teste se as saídas correspondem às travessias esperadas.\n",
        "\n",
        "**Explique (Questões Discursivas):**\n",
        "\n",
        "1. Em que situação cada tipo de percurso é mais indicado?\n",
        "\n",
        "- In-Order: ideal para obter os elementos em ordem crescente.\n",
        "- Pré-Order: útil para copiar ou serializar a estrutura da árvore.  \n",
        "- Pós-Order: indicado para liberar memória ou calcular agregados de forma recursiva.\n"
      ],
      "metadata": {
        "id": "qJ1Rbf22IASJ"
      }
    },
    {
      "cell_type": "code",
      "source": [
        "class Node:\n",
        "    def __init__(self, value):\n",
        "        self.value = value\n",
        "        self.left = None\n",
        "        self.right = None\n",
        "\n",
        "def insert(root, value):\n",
        "    if root is None:\n",
        "        return Node(value)\n",
        "    if value < root.value:\n",
        "        root.left = insert(root.left, value)\n",
        "    else:\n",
        "        root.right = insert(root.right, value)\n",
        "    return root\n",
        "\n",
        "values = [50, 30, 70, 20, 40, 60, 80, 35, 45]\n",
        "root = None\n",
        "for v in values:\n",
        "    root = insert(root, v)\n",
        "\n",
        "def in_order(node):\n",
        "    if node:\n",
        "        in_order(node.left)\n",
        "        print(node.value, end=\" \")\n",
        "\n",
        "def pre_order(node):\n",
        "    if node:\n",
        "        print(node.value, end=\" \")\n",
        "        pre_order(node.left)\n",
        "        pre_order(node.right)\n",
        "\n",
        "def post_order(node):\n",
        "    if node:\n",
        "        post_order(node.left)\n",
        "        post_order(node.right)\n",
        "        print(node.value, end=\" \")\n",
        "\n",
        "print(\"In-Order (esperado: ordenado):\")\n",
        "in_order(root)\n",
        "print(\"\\nPré-Order (esperado: raiz primeiro):\")\n",
        "pre_order(root)\n",
        "print(\"\\nPós-Order (esperado: raiz por último):\")\n",
        "post_order(root)"
      ],
      "metadata": {
        "id": "jxol5GNCIrM9",
        "colab": {
          "base_uri": "https://localhost:8080/"
        },
        "outputId": "0284ac62-ef93-44cf-83e4-6ce3993ef1aa"
      },
      "execution_count": 6,
      "outputs": [
        {
          "output_type": "stream",
          "name": "stdout",
          "text": [
            "In-Order (esperado: ordenado):\n",
            "20 30 50 \n",
            "Pré-Order (esperado: raiz primeiro):\n",
            "50 30 20 40 35 45 70 60 80 \n",
            "Pós-Order (esperado: raiz por último):\n",
            "20 35 45 40 30 60 80 70 50 "
          ]
        }
      ]
    },
    {
      "cell_type": "code",
      "source": [],
      "metadata": {
        "id": "6eP76jYWItEK"
      },
      "execution_count": 6,
      "outputs": []
    },
    {
      "cell_type": "markdown",
      "source": [
        "**Parte D — Reflexões (Respostas Curtas)**\n",
        "\n",
        "Responda de forma argumentativa (5–10 linhas cada):\n",
        "\n",
        "1. Quando não é vantajoso usar A*, mesmo tendo uma heurística?\n",
        "\n",
        "Quando a heurística é fraca ou inconsistente, o A* pode se comportar como o Dijkstra, perdendo eficiência. Também não é vantajoso em grafos muito pequenos ou quando o custo de calcular a heurística supera os ganhos da busca.\n",
        "\n",
        "2. Diferencie corretude e otimalidade nos algoritmos estudados.\n",
        "\n",
        "Corretude garante que o algoritmo encontra um caminho válido até o destino. Otimalidade garante que esse caminho é o melhor possível (menor custo). Dijkstra e A* com heurísticas admissíveis são corretos e ótimos.\n",
        "\n",
        "3. Dê um exemplo do mundo real onde cada tipo de percurso (em, pré, pós) é essencial.\n",
        "\n",
        "- In-Order: mostrar produtos ordenados por preço em um e-commerce.  \n",
        "- Pré-Order: salvar a estrutura de uma árvore de decisão.  \n",
        "- Pós-Order: liberar memória de uma árvore ou calcular somatórios de subárvores.\n",
        "\n",
        "4. Como heurísticas inconsistentes podem afetar o resultado do A*?\n",
        "\n",
        "Heurísticas inconsistentes podem levar o A* a revisitar nós, aumentando o tempo de execução e podendo comprometer a otimalidade do caminho encontrado. Isso ocorre porque a estimativa de custo pode variar de forma não confiável\n",
        "\n",
        "💬 Sugestão: use exemplos de mapas, jogos, sistemas de busca ou árvores sintáticas."
      ],
      "metadata": {
        "id": "5bocfC3rIuwu"
      }
    },
    {
      "cell_type": "markdown",
      "source": [
        "Insira suas respostas aqui"
      ],
      "metadata": {
        "id": "8W_afmXGI6h3"
      }
    },
    {
      "cell_type": "code",
      "source": [],
      "metadata": {
        "id": "Vo_E3Z3AI40h"
      },
      "execution_count": 6,
      "outputs": []
    },
    {
      "cell_type": "markdown",
      "source": [
        "**Entrega**\n",
        "\n",
        "Crie um repositório público chamado ia-grafos-seu-nome.\n",
        "\n",
        "Envie para o repositório o arquivo ia_grafos_buscas.ipynb.\n",
        "\n",
        "Submeta o link do repositório no ambiente da disciplina **Portal Digital Fametro.**."
      ],
      "metadata": {
        "id": "vyWiRE5TJEUf"
      }
    },
    {
      "cell_type": "markdown",
      "source": [
        "**Integridade Acadêmica**\n",
        "\n",
        "1. O trabalho é individual.\n",
        "2. Discussões conceituais são permitidas, mas o código deve ser inteiramente autoral.\n",
        "3. Verificações de similaridade serão aplicadas a todas as submissões.\n",
        "4. Busque e estude os algoritmos através de pesquisas na internet, livros, slides da disciplina."
      ],
      "metadata": {
        "id": "xP1stx7fJcCV"
      }
    },
    {
      "cell_type": "code",
      "source": [],
      "metadata": {
        "id": "uxmWR_KlJXDC"
      },
      "execution_count": 6,
      "outputs": []
    }
  ]
}